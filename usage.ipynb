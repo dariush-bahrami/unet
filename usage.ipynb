{
 "cells": [
  {
   "cell_type": "code",
   "execution_count": 1,
   "metadata": {},
   "outputs": [],
   "source": [
    "from unet import UNet, UNetConfigs"
   ]
  },
  {
   "cell_type": "code",
   "execution_count": 11,
   "metadata": {},
   "outputs": [
    {
     "name": "stdout",
     "output_type": "stream",
     "text": [
      "model.n_params=31.038088 M\n",
      "model.size_on_disk=118.44596862792969 MB\n"
     ]
    }
   ],
   "source": [
    "model_configs = UNetConfigs(\n",
    "    in_channels=3,\n",
    "    out_channels=8,\n",
    "    hidden_channels_scale=6, # if 6 then initial conv out channels is 2**6\n",
    "    steps=4, # number of down/up sample steps\n",
    "    conv_kernel_size=3, # This should be odd number\n",
    "    conv_transpose_kernel_size=2, # This should be even number\n",
    ")\n",
    "model = UNet(model_configs)\n",
    "print(f\"{model.n_params=:} M\")\n",
    "print(f\"{model.size_on_disk=} MB\")"
   ]
  }
 ],
 "metadata": {
  "kernelspec": {
   "display_name": "ml",
   "language": "python",
   "name": "python3"
  },
  "language_info": {
   "codemirror_mode": {
    "name": "ipython",
    "version": 3
   },
   "file_extension": ".py",
   "mimetype": "text/x-python",
   "name": "python",
   "nbconvert_exporter": "python",
   "pygments_lexer": "ipython3",
   "version": "3.9.13"
  },
  "orig_nbformat": 4,
  "vscode": {
   "interpreter": {
    "hash": "bd89e1ea517ed67ac10b55f3668edc7bf907e6dade2e26fa5bf12211524be1b6"
   }
  }
 },
 "nbformat": 4,
 "nbformat_minor": 2
}
